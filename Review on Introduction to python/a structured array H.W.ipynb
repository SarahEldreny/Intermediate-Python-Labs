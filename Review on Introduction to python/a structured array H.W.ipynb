{
 "cells": [
  {
   "cell_type": "markdown",
   "metadata": {},
   "source": [
    "# LAB Questions\n",
    "\n",
    "2. Write a NumPy program to create a structured array from given \n",
    "student name, height, class and their data types. Then sort the \n",
    "array on height \n"
   ]
  },
  {
   "cell_type": "code",
   "execution_count": 5,
   "metadata": {},
   "outputs": [],
   "source": [
    "import numpy as np"
   ]
  },
  {
   "cell_type": "code",
   "execution_count": 15,
   "metadata": {},
   "outputs": [
    {
     "name": "stdout",
     "output_type": "stream",
     "text": [
      "Original array: [(b'Sarah', 1, 167) (b'Alaa', 2, 158) (b'Mahmoud', 3, 170)]\n",
      "Sort by height\n",
      "[(b'Alaa', 2, 158) (b'Sarah', 1, 167) (b'Mahmoud', 3, 170)]\n"
     ]
    }
   ],
   "source": [
    "dataType = [('name', 'S7'), ('class', int), ('height', int)]\n",
    "studentsDetails = [(\"Sarah\" ,1 ,167), (\"Alaa\" ,2 ,158), (\"Mahmoud\" ,3 ,170)]\n",
    "students = np.array(studentsDetails, dtype=dataType) \n",
    "print(\"Original array:\", students)\n",
    "print(\"Sort by height\",np.sort(students, order='height'))"
   ]
  },
  {
   "cell_type": "markdown",
   "metadata": {},
   "source": [
    "3. Kindly solve the following equations using SciPy:\n",
    "\n",
    "• x + 2y - 3z + 2w = 30\n",
    "\n",
    "• 2x - 5y + 4z + 9w = 4  \n",
    "\n",
    "• -5x + 40y –z –20w = -6\n",
    "\n",
    "• 5x - 4y –z + 60w = 5"
   ]
  },
  {
   "cell_type": "code",
   "execution_count": 4,
   "metadata": {},
   "outputs": [
    {
     "name": "stdout",
     "output_type": "stream",
     "text": [
      "[[19.46701571]\n",
      " [ 1.44371728]\n",
      " [-3.54973822]\n",
      " [-1.50183246]]\n"
     ]
    }
   ],
   "source": [
    "import numpy as np  \n",
    "from scipy import linalg  \n",
    "\n",
    "# Creating input array  \n",
    "a = np.array([[1, 2, -3, 2], [2, -5, 4, 9], [-5, 40, -1, -20], [5, -4, -1, 60]])  \n",
    "\n",
    "# Solution Array  \n",
    "b = np.array([[30], [4], [-6], [5]])  \n",
    "\n",
    "# Solve the linear algebra  \n",
    "x = linalg.solve(a, b)  \n",
    "\n",
    "# Print results  \n",
    "print(x)  "
   ]
  }
 ],
 "metadata": {
  "kernelspec": {
   "display_name": "Python 3",
   "language": "python",
   "name": "python3"
  },
  "language_info": {
   "codemirror_mode": {
    "name": "ipython",
    "version": 3
   },
   "file_extension": ".py",
   "mimetype": "text/x-python",
   "name": "python",
   "nbconvert_exporter": "python",
   "pygments_lexer": "ipython3",
   "version": "3.8.5"
  }
 },
 "nbformat": 4,
 "nbformat_minor": 4
}
